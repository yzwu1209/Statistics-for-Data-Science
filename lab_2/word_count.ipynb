{
 "cells": [
  {
   "cell_type": "code",
   "execution_count": 2,
   "metadata": {},
   "outputs": [
    {
     "name": "stdout",
     "output_type": "stream",
     "text": [
      "Total words: 4788\n"
     ]
    }
   ],
   "source": [
    "import nbformat\n",
    "\n",
    "with open('Lim_Wu_*_lab_2.ipynb') as f:\n",
    "    nb = nbformat.read(f, as_version=4)\n",
    "    total_words = 0\n",
    "    \n",
    "    for cell in nb['cells']:\n",
    "        if cell['cell_type'] == 'markdown':\n",
    "            total_words += len(cell['source'].split())\n",
    "            \n",
    "print(\"Total words:\", total_words)"
   ]
  },
  {
   "cell_type": "code",
   "execution_count": null,
   "metadata": {},
   "outputs": [],
   "source": []
  }
 ],
 "metadata": {
  "kernelspec": {
   "display_name": "Python 3",
   "language": "python",
   "name": "python3"
  },
  "language_info": {
   "codemirror_mode": {
    "name": "ipython",
    "version": 3
   },
   "file_extension": ".py",
   "mimetype": "text/x-python",
   "name": "python",
   "nbconvert_exporter": "python",
   "pygments_lexer": "ipython3",
   "version": "3.7.1"
  }
 },
 "nbformat": 4,
 "nbformat_minor": 2
}
