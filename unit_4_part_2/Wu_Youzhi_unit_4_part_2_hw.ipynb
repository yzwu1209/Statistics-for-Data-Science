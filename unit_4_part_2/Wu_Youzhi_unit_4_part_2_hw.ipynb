{
 "cells": [
  {
   "cell_type": "markdown",
   "metadata": {},
   "source": [
    "<h1> Unit 4 - Part 2 Homework </h1>\n",
    "<h3> W203 Statistics for Data Science </h3>"
   ]
  },
  {
   "cell_type": "markdown",
   "metadata": {},
   "source": [
    "Student Name: Youzhi Wu\n",
    "\n",
    "Section Number: 05"
   ]
  },
  {
   "cell_type": "markdown",
   "metadata": {},
   "source": [
    "<h2> 1. Processing Pasta </h2>"
   ]
  },
  {
   "cell_type": "markdown",
   "metadata": {},
   "source": [
    "<h3> (a) Write down a complete expression for the cumulative probability function of L. </h3>\n",
    "\n",
    ">From the PDF we know that $\\forall l \\leq 0: F_L(l) = 0$, because $\\forall l \\leq 0: f_L(l) = 0$.\n",
    "$$\n",
    "\\begin{aligned}\n",
    "\\forall l \\in (0,2]:\n",
    "F_L(l) &= \\int^{l}_{0} f(l) dl \\\\\n",
    "&= \\int^{l}_{0} \\frac{l}{2} dl \\\\\n",
    "&= \\left[ \\frac{l^2}{4} \\right]_0^l \\\\\n",
    "&= \\frac{l^2}{4}\n",
    "\\end{aligned}\n",
    "$$\n",
    "\n",
    ">From the PDF we know that $\\forall l > 2: F_L(l)$ will not increase, because $\\forall l>2 : f_L(l) = 0$. \n",
    ">Combining the three intervals, we get the following cumulative probability function of L:\n",
    "\n",
    "> $$\n",
    "F_L(l)\n",
    "    =\n",
    "    \\begin{cases} \n",
    "        0, & \\text{for } l \\leq 0 \\\\ \n",
    "        \\frac{l^2}{4}, & \\text{for } 0 < l \\leq 2 \\\\\n",
    "        1, & \\text{for } 2 < l\n",
    "    \\end{cases}\n",
    "$$"
   ]
  },
  {
   "cell_type": "markdown",
   "metadata": {},
   "source": [
    "<h3> (b) Using the definition of expectation for a continuous random variable, compute the expected\n",
    "length of the pasta, E(L). </h3>\n",
    "\n",
    "> $$\n",
    "\\begin{aligned}\n",
    "E(L)\n",
    "    &= \\int^{\\infty}_{-\\infty} l \\cdot {f_L}(l) dl & \\\\\n",
    "    &= \\int^{0}_{-\\infty} l \\cdot 0 dl + \\int^{2}_{0} l \\cdot \\frac{l}{2} dl + \\int^{\\infty}_{2} l \\cdot 0 dl \\\\\n",
    "    &= 0 + \\left[ \\frac{l^3}{6} \\right]_0^2 + 0 \\\\\n",
    "    &= \\frac{4}{3}\n",
    "\\end{aligned}\n",
    "$$"
   ]
  },
  {
   "cell_type": "markdown",
   "metadata": {},
   "source": [
    "<h2> 2. The Warranty is Worth It </h2>"
   ]
  },
  {
   "cell_type": "markdown",
   "metadata": {},
   "source": [
    "> Because continuous random variable T has a uniform probability distribution between 0 and 1 year, its probability density function can be written as follows:\n",
    "\n",
    "> $$\n",
    "f_T(t)\n",
    "    =\n",
    "    \\begin{cases} \n",
    "        0, & \\text{for } t < 0 \\\\ \n",
    "        1, & \\text{for } 0 \\geq t < 1 \\\\\n",
    "        0, & \\text{for } 1 \\geq t\n",
    "    \\end{cases}\n",
    "$$\n",
    "\n",
    ">$$\n",
    "\\begin{aligned}\n",
    "E(X) &= E(g(T)) \\\\\n",
    "&= \\int^{\\infty}_{-\\infty} g_T(t) \\cdot {f_T}(t) dt & \\\\\n",
    "&= \\int^{0}_{-\\infty} g_T(t) \\cdot 0 dt + \\int^{1}_{0} g_T(t) \\cdot 1 dt + \\int^{\\infty}_{1} g_T(t) \\cdot 0 dt \\\\\n",
    "&= 0 + \\int^{1}_{0} 100(1-t)^{1/2} \\cdot 1 dt + 0 \\\\\n",
    "&= \\left[ -100 \\cdot \\frac{2}{3} \\cdot (1-t)^{3/2} \\right]^1_0 \\\\\n",
    "&= \\frac{200}{3}\n",
    "\\end{aligned}\n",
    "$$\n"
   ]
  },
  {
   "cell_type": "markdown",
   "metadata": {},
   "source": [
    "<h2> 3. (Lecture)#Fail </h2>"
   ]
  },
  {
   "cell_type": "markdown",
   "metadata": {},
   "source": [
    "> $$\n",
    "\\begin{aligned}\n",
    "\\forall t > 0: \n",
    "h(t) &= \\frac{f(t)}{1-F(t)} \\\\\n",
    "&= \\frac{f(t)}{1 - \\int^{t}_{-\\infty}f(t)dt} \\\\\n",
    "&= \\frac{f(t)}{1 - \\int^{t}_{0}f(t)dt} \\\\\n",
    "&= \\frac{e^{-t}}{1 - \\int^{t}_{0}e^{-t}dt} \\\\\n",
    "&= \\frac{e^{-t}}{1 - \\left[ -e^{-t}\\right] ^t_0} \\\\\n",
    "&= \\frac{e^{-t}}{1 - (-e^{-t} + 1)} \\\\\n",
    "&= 1\n",
    "\\end{aligned}\n",
    "$$"
   ]
  },
  {
   "cell_type": "markdown",
   "metadata": {},
   "source": [
    "<h2> 4. Optional Advanced Exercise: Characterizing a Function of a Random Variable </h2>"
   ]
  },
  {
   "cell_type": "markdown",
   "metadata": {},
   "source": [
    "> Because $Y = h(X)$ and that h is an invertible function, we have that $X = h^{-1}(Y)$\n",
    "$$\n",
    "\\begin{aligned}\n",
    "g(y) &= \\frac{d}{dy} \\left[ P(Y \\leq y) \\right] \\\\\n",
    "&= \\frac{d}{dy} \\left[ P(h(X) \\leq y) \\right] \\\\\n",
    "\\end{aligned}\n",
    "$$\n",
    "> Since h is an invertible function, it is either monotonically increasing or monotonically decreasing. \n",
    "(1) If it is monotonically increasing, the above equation can be written as follows:\n",
    "$$\n",
    "\\begin{aligned}\n",
    "g(y) &= \\frac{d}{dy} \\left[ P(X \\leq h^{-1}(y)) \\right] \\\\\n",
    "&= \\frac{d}{dy} \\int^{h^{-1}(y)}_{-\\infty}f(x)dx \\\\\n",
    "&= \\frac{d}{dy} \\left[ F(h^{-1}(y)) - F(-\\infty) \\right] \\leftarrow\\text{F as the CDF of X.} \\\\\n",
    "&= f(h^{-1}(y))\\frac{d}{dy}h^{-1}(y) \\leftarrow\\text{$F(-\\infty)$ is a constant, the derivative of it is zero.}\n",
    "\\end{aligned}\n",
    "$$\n",
    "\n",
    ">(2) If it is monotonically decreasing, the above equation can be written as follows:\n",
    "$$\n",
    "\\begin{aligned}\n",
    "g(y) &= \\frac{d}{dy} \\left[ P(X \\geq h^{-1}(y)) \\right] \\\\\n",
    "&= \\frac{d}{dy} \\int^{\\infty}_{h^{-1}(y)}f(x)dx \\\\\n",
    "&= \\frac{d}{dy} \\left[ F(\\infty) - F(h^{-1}(y)) \\right] \\\\\n",
    "&= -f(h^{-1}(y))\\frac{d}{dy}h^{-1}(y)\n",
    "\\end{aligned}\n",
    "$$\n",
    "> Since $f(h^{-1}(y))$ must be non-negative, combining the two scenarios, the equation can be written as follows: \n",
    "> $$\n",
    "g(y) =  f(h^{-1}(y)) \\cdot \\left| \\frac{dh^{-1}(y)}{dy} \\right|\n",
    "$$"
   ]
  }
 ],
 "metadata": {
  "kernelspec": {
   "display_name": "R",
   "language": "R",
   "name": "ir"
  },
  "language_info": {
   "codemirror_mode": "r",
   "file_extension": ".r",
   "mimetype": "text/x-r-source",
   "name": "R",
   "pygments_lexer": "r",
   "version": "3.5.1"
  }
 },
 "nbformat": 4,
 "nbformat_minor": 2
}
