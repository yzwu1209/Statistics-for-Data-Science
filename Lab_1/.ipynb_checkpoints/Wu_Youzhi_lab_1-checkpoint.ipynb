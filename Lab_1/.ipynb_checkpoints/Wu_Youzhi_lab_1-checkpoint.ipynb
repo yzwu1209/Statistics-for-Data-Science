{
 "cells": [
  {
   "cell_type": "markdown",
   "metadata": {},
   "source": [
    "# Lab 1: Probability Theory\n",
    "## W203: Statistics for Data Science\n",
    "\n"
   ]
  },
  {
   "cell_type": "markdown",
   "metadata": {},
   "source": [
    "Student Name: Youzhi Wu\n",
    "\n",
    "Section Number: 05"
   ]
  },
  {
   "cell_type": "markdown",
   "metadata": {},
   "source": [
    "## 1. Meanwhile, at the Unfair Coin Factory...\n",
    "\n",
    "You are given a bucket that contains 100 coins.  99 of these are fair coins, but one of them is a trick coin that always comes up heads.  You select one coin from this bucket at random.  Let T be the event that you select the trick coin.  This means that $P(T) = 0.01$.\n",
    "\n",
    "a. Suppose you flip the coin once and it comes up heads.  Call this event $H_1$.  If this event occurs, what is the conditional probability that you have the trick coin?  In other words, what is $P(T|H_1)$?\n",
    "\n",
    "b. Suppose instead that you flip the coin $k$ times.  Let $H_k$ be the event that the coin comes up heads all $k$ times.  If you see this occur, what is the conditional probability that you have the trick coin?  In other words, what is $P(T|H_k)$.\n",
    "\n",
    "c. How many heads in a row would you need to observe in order for the conditional probability that you have the trick coin to be higher than 99%?"
   ]
  },
  {
   "cell_type": "markdown",
   "metadata": {},
   "source": [
    "<h3> a. what is $P(T|H_1)$ </h3>\n",
    "\n",
    "> $$\n",
    "\\begin{aligned}\n",
    "P(T|H_1) &= \\frac{P(T \\cap H_1)}{P(H_1)} \\\\\n",
    "\\\\\n",
    "& \\leftarrow\\text{$P(T \\cap H_1)$ equals to $P(T)$ because the trick coin will always come up heads.}\\\\ \n",
    "& \\leftarrow\\text{$P(H_1)$ equals to (1) either flipping a fair coin to get heads, (2) or flipping the trick coin to get heads.} \\\\ \n",
    "\\\\\n",
    "&= \\frac{0.01}{0.99*0.5+0.01} \\\\\n",
    "&= 0.0198\n",
    "\\end{aligned}\n",
    "$$"
   ]
  },
  {
   "cell_type": "markdown",
   "metadata": {},
   "source": [
    "<h3> b. what is $P(T|H_k)$ </h3>\n",
    "\n",
    "> $$\n",
    "\\begin{aligned}\n",
    "P(T|H_k) &= \\frac{P(T \\cap H_k)}{P(H_k)} \\\\\n",
    "\\\\\n",
    "& \\leftarrow\\text{$P(T \\cap H_k)$ equals to the possibility of flipping trick coin which would be $P(T)$.}\\\\ \n",
    "& \\leftarrow\\text{$P(H_k)$ equals to the possibility of getting event $H_1$ k times, which would be $P(H_1)^k$.} \\\\ \n",
    "\\\\\n",
    "&= \\frac{0.01}{0.99 \\cdot 0.5^k+0.01} \\\\\n",
    "\\end{aligned}\n",
    "$$"
   ]
  },
  {
   "cell_type": "markdown",
   "metadata": {},
   "source": [
    "<h3> c. what is the k in order for $P(T|H_k)$ to be higher than 99% </h3>\n",
    "\n",
    "> Because we have $P(T|H_k) = \\frac{0.01}{0.99 \\cdot 0.5^k+0.01}$ which needs to be higher than 99%, therefore\n",
    "$$\n",
    "\\begin{aligned}\n",
    "\\frac{0.01}{0.99 \\cdot 0.5^k+0.01} &> 0.99 \\\\\n",
    "k &> 2 \\log_2 99 \\\\\n",
    "k &> 13.259\n",
    "\\end{aligned}\n",
    "$$\n",
    "Therefore, you need to observe at least 14 times heads in a row in order for the conditional probability that you have the trick coin to be higher than 99%. "
   ]
  },
  {
   "cell_type": "markdown",
   "metadata": {},
   "source": [
    "## 2.  Wise Investments \n",
    "\n",
    "You invest in two startup companies focused on data science.  Thanks to your growing expertise in this area, each company will reach unicorn status (valued at \\\\$1 billion) with probability 3/4, independent of the other company.  Let random variable $X$ be the total number of companies that reach unicorn status.  X can take on the values 0, 1, and 2.  Note: $X$ is what we call a binomial random variable with parameters $n=2$ and $p=3/4$.\n",
    "\n",
    "a. Give a complete expression for the probability mass function of $X$.\n",
    "\n",
    "b. Give a complete expression for the cumulative probability function of $X$.\n",
    "\n",
    "c. Compute $E(X)$.\n",
    "\n",
    "d. Compute $var(X)$."
   ]
  },
  {
   "cell_type": "markdown",
   "metadata": {},
   "source": [
    "<h3> a. Give a complete expression for the probability mass function of $X$.</h3>\n",
    "\n",
    "> Because the distribution follows binomial distribution with parameters $n = 2$ and $p = 3/4$, the pmf of $X$, $P(X)$, is:\n",
    "$$ \n",
    "P(X) = \n",
    "\\begin{cases} \n",
    "    \\frac{1}{16} &  \\text{if $X$ = 0} \\\\\n",
    "    \\frac{3}{8} & \\text{if $X$ = 1} \\\\\n",
    "    \\frac{9}{16} & \\text{if $X$ = 2} \\\\\n",
    "    0 & \\text{if otherwise}\n",
    "\\end{cases}\n",
    "$$"
   ]
  },
  {
   "cell_type": "markdown",
   "metadata": {},
   "source": [
    "<h3> b. Give a complete expression for the cumulative probability function of $X$.</h3>\n",
    "\n",
    "> The cmf of $X$, $B(X)$, is:\n",
    "$$ \n",
    "B(X) = \n",
    "\\begin{cases} \n",
    "    \\frac{1}{16} &  \\text{if $X \\leq 0$} \\\\\n",
    "    \\frac{7}{16} & \\text{if $X \\leq 1$} \\\\\n",
    "    1 & \\text{if $X \\leq 2$} \\\\\n",
    "    1 & \\text{if $x > 2$}\n",
    "\\end{cases}\n",
    "$$"
   ]
  },
  {
   "cell_type": "markdown",
   "metadata": {},
   "source": [
    "<h3> c. Compute $E(X)$.</h3>\n",
    "\n",
    "> $$\n",
    "\\begin{aligned}\n",
    "E(X) &= \\sum_{x = 0}^{x=2} x \\cdot P(X = x) \\\\\n",
    "&= 0 \\cdot \\frac{1}{16} + 1 \\cdot \\frac{3}{8} + 2 \\cdot \\frac{9}{16} \\\\\n",
    "&= 0 + \\frac{3}{8} + \\frac{9}{8} \\\\\n",
    "&= \\frac{3}{2}\n",
    "\\end{aligned}\n",
    "$$"
   ]
  },
  {
   "cell_type": "markdown",
   "metadata": {},
   "source": [
    "<h3> d. Compute $var(X)$.</h3>\n",
    "\n",
    "> $$\n",
    "\\begin{aligned}\n",
    "var(X) &= E(X^2) - [E(X)]^2 \\\\\n",
    "&= \\sum_{x = 0}^{x=2} x^2 \\cdot P(X = x) - [E(X)]^2 \\\\\n",
    "&= 0^2 \\cdot \\frac{1}{16} + 1^2 \\cdot \\frac{3}{8} + 2^2 \\cdot \\frac{9}{16} - \\left[\\frac{3}{2} \\right]^2 \\\\\n",
    "&= 0 + \\frac{3}{8} + \\frac{9}{4} - \\frac{9}{4} \\\\\n",
    "&= \\frac{3}{8}\n",
    "\\end{aligned}\n",
    "$$"
   ]
  },
  {
   "cell_type": "markdown",
   "metadata": {},
   "source": [
    "## 3. A Really Bad Darts Player\n",
    "\n",
    "Let $X$ and $Y$ be independent uniform random variables on the interval $[-1,1]$.  Let $D$ be a random variable that indicates if $(X,Y)$ falls within the unit circle centered at the origin.  We can define $D$ as follows:\n",
    "\n",
    "$$ D = \\begin{cases}\n",
    "1, &X^2 + Y^2 < 1 \\\\\n",
    "0, &otherwise\n",
    "\\end{cases}\n",
    "$$\n",
    "\n",
    "Note that $D$ is a Bernoulli variable.  \n",
    "\n",
    "a. Compute the expectation $E(D)$.  Hint: it might help to remember why we use area diagrams to represent probabilites.\n",
    "\n",
    "b. Compute the standard deviation of $D$.\n",
    "\n",
    "c. Write an R function to compute the value of $D$, given a value for $X$ and a value for $Y$.  Use R to simulate a draw for $X$ and a draw for $Y$, then compute the value of $D$.\n",
    "\n",
    "d. Use R to simulate the previous experiment 1000 times, resulting in 1000 samples for $D$.  Compute the sample mean and sample standard deviation of your result, and compare them to the true values in parts a. and b."
   ]
  },
  {
   "cell_type": "markdown",
   "metadata": {},
   "source": [
    "<h3> a. Compute the expectation $E(D)$.</h3>\n",
    "\n",
    "> The total area of the sample space is $(1+1)^2 = 4$ since $X$ and $Y$ follows uniform distribution on the interval of $[-1, 1]$. Then the pmf of $D$, $P(D)$, is:\n",
    "$$ \n",
    "P(D) = \n",
    "\\begin{cases} \n",
    "    \\frac{\\pi \\cdot 1^2}{4} &  \\text{if $D = 1$} \\\\\n",
    "    1 - \\frac{\\pi \\cdot 1^2}{4} & \\text{if $D = 0$} \\\\\n",
    "    0 & \\text{if otherwise}\n",
    "\\end{cases}\n",
    "$$\n",
    "Therefore, $P(D)$ could be written as follows:\n",
    "$$ \n",
    "P(D) = \n",
    "\\begin{cases} \n",
    "    \\frac{\\pi}{4} &  \\text{if $D = 1$} \\\\\n",
    "    1 - \\frac{\\pi}{4} & \\text{if $D = 0$} \\\\\n",
    "    0 & \\text{if otherwise}\n",
    "\\end{cases}\n",
    "$$\n",
    "Therefore, $E(D)$ can be computed as follows:\n",
    "$$\n",
    "\\begin{aligned}\n",
    "E(D) &= \\sum_{d=0}^{d=1} d \\cdot P(D = d) \\\\\n",
    "&= 0 \\cdot (1 - \\frac{\\pi}{4}) + 1 \\cdot \\frac{\\pi}{4} \\\\\n",
    "&= \\frac{\\pi}{4} \\\\\n",
    "&\\approx 0.785\n",
    "\\end{aligned}\n",
    "$$"
   ]
  },
  {
   "cell_type": "markdown",
   "metadata": {},
   "source": [
    "<h3> b. Compute the standard deviation of $D$.</h3>\n",
    "\n",
    "> The standard deviation of $D$, $S(D)$ equals to the positive square root of the $var(D)$. The $var(D)$ equals to $E(D^2) - [E(D)]^2$. Therefore, the $S(D)$ can be computed as follows:\n",
    "$$\n",
    "\\begin{aligned}\n",
    "S(D) &= \\sqrt{var(D)} \\\\\n",
    "&= \\sqrt{E(D^2) - [E(D)]^2} \\\\\n",
    "&= \\sqrt{\\sum_{d=0}^{d=1} d^2 \\cdot P(D = d) - [E(D)]^2} \\\\\n",
    "&= \\sqrt{0^2 \\cdot (1 - \\frac{\\pi}{4}) + 1^2 \\cdot \\frac{\\pi}{4} - \\left[ \\frac{\\pi}{4} \\right]^2} \\\\\n",
    "&= \\frac{\\sqrt{4\\pi - \\pi^2}}{4} \\\\\n",
    "&\\approx 0.411\n",
    "\\end{aligned}\n",
    "$$"
   ]
  },
  {
   "cell_type": "markdown",
   "metadata": {},
   "source": [
    "<h3> c. Write an R function to compute the value of $D$, given a value for $X$ and a value for $Y$.  Use R to simulate a draw for $X$ and a draw for $Y$, then compute the value of $D$.</h3>"
   ]
  },
  {
   "cell_type": "code",
   "execution_count": 2,
   "metadata": {},
   "outputs": [
    {
     "name": "stdout",
     "output_type": "stream",
     "text": [
      "[1] 1\n"
     ]
    }
   ],
   "source": [
    "# set seed\n",
    "set.seed(89)\n",
    "\n",
    "# Take Draws\n",
    "n = 1\n",
    "x <- runif(n, min = -1, max = 1)\n",
    "y <- runif(n, min = -1, max = 1)\n",
    "\n",
    "# compute the value of D\n",
    "if((x^2 + y^2) > 1) {\n",
    "    d <- 1\n",
    "} else {\n",
    "    d <- 0\n",
    "}\n",
    "print(d)"
   ]
  },
  {
   "cell_type": "markdown",
   "metadata": {},
   "source": [
    "<h3> d. Use R to simulate the previous experiment 1000 times, resulting in 1000 samples for $D$.  Compute the sample mean and sample standard deviation of your result, and compare them to the true values in parts a. and b.</h3>"
   ]
  },
  {
   "cell_type": "code",
   "execution_count": 5,
   "metadata": {},
   "outputs": [
    {
     "name": "stdout",
     "output_type": "stream",
     "text": [
      "[1] 0.2227772\n",
      "[1] 0.416318\n"
     ]
    }
   ],
   "source": [
    "# set seed\n",
    "set.seed(89)\n",
    "\n",
    "reps = 0\n",
    "d_vector <- c()\n",
    "\n",
    "repeat{\n",
    "    # Take Draws\n",
    "    n = 1\n",
    "    x <- runif(n, min = -1, max = 1)\n",
    "    y <- runif(n, min = -1, max = 1)\n",
    "\n",
    "    # compute the value of D\n",
    "    if((x^2 + y^2) > 1) {\n",
    "        d <- 1\n",
    "    } else {\n",
    "        d <- 0\n",
    "    }\n",
    "    \n",
    "    # store the value of D in a vector\n",
    "    d_vector <- c(d_vector, d)\n",
    "    \n",
    "    # count the # of experiments, if over 1000 times, break from repeat\n",
    "    reps = reps + 1\n",
    "    if(reps > 1000) {\n",
    "        break\n",
    "    }\n",
    "}\n",
    "\n",
    "mean_obs <- mean(d_vector)\n",
    "sd_obs <- sd(d_vector)\n",
    "print(mean_obs)\n",
    "print(sd_obs)"
   ]
  },
  {
   "cell_type": "markdown",
   "metadata": {},
   "source": [
    "# 4. Relating Min and Max\n",
    "\n",
    "Continuous random variables $X$ and $Y$ have a joint distribution with probability density function,\n",
    "\n",
    "$$ f(x,y) = \\begin{cases}\n",
    "2, &0 < y < x < 1 \\\\\n",
    "0, &otherwise.\n",
    "\\end{cases} $$\n",
    "\n",
    "You may wonder where you would find such a distribution.  In fact, if $A_1$ and $A_2$ are independent random variables uniformly distributed on $[0,1]$, and you define $X = max(A_1,A_2)$, $Y = min(A_1,A_2)$, then $X$ and $Y$ will have exactly the joint distribution defined above.\n",
    "\n",
    "a. Draw a graph of the region for which $X$ and $Y$ have positive probability density.\n",
    "\n",
    "b. Derive the marginal probability density function of $X$, $f_X(x)$.  Make sure you write down a complete expression.\n",
    "\n",
    "c. Derive the unconditional expectation of $X$.\n",
    "\n",
    "d. Derive the conditional probability density function of $Y$, conditional on $X$, $f_{Y|X}(y|x)$\n",
    "\n",
    "e. Derive the conditional expectation of $Y$, conditional on $X$, $E(Y|X)$.\n",
    "\n",
    "f. Derive $E(XY)$.  Hint 1: Use the law of iterated expectations.  Hint 2: If you take an expectation conditional on $X$, $X$ is just a constant inside the expectation.  This means that $E(XY|X) = XE(Y|X)$.\n",
    "\n",
    "g. Using the previous parts, derive $cov(X,Y)$"
   ]
  },
  {
   "cell_type": "markdown",
   "metadata": {},
   "source": [
    "<h3> a. Draw a graph of the region for which $X$ and $Y$ have positive probability density.</h3>\n",
    "\n",
    "> The graph is shown as below. The skyblue region is where $X$ and $Y$ have postive prbability density. "
   ]
  },
  {
   "cell_type": "code",
   "execution_count": 9,
   "metadata": {},
   "outputs": [
    {
     "data": {
      "image/png": "[encoded data removed]",
      "text/plain": [
       "plot without title"
      ]
     },
     "metadata": {},
     "output_type": "display_data"
    }
   ],
   "source": [
    "x <- c(0, 1, 1) # The x-coordinate of the vertices\n",
    "y <- c(0, 1, 0) # The y-coordinate of the vertices\n",
    "plot(c(0,1), c(0,1), type = \"n\", xlab = \"X\", ylab = \"Y\")\n",
    "polygon(x, y, col = 'skyblue')"
   ]
  },
  {
   "cell_type": "markdown",
   "metadata": {},
   "source": [
    "<h3> b. Derive the marginal probability density function of $X$, $f_X(x)$.</h3>\n",
    "\n",
    "> The marginal probability density function of $X$ can be written as below:\n",
    "\n",
    "$$\n",
    "\\forall x \\in (0,1) \\\\\n",
    "\\begin{aligned}\n",
    "f_X(x) &= \\int_{-\\infty}^{\\infty} f(x,y)dy \\\\\n",
    "    &= \\int_{0}^{x} 2 dy \\\\\n",
    "    &= \\left[2y \\right]_{0}^{x} \\\\\n",
    "    &= 2x \\\\\n",
    "\\end{aligned}\n",
    "$$\n",
    "> Therefore, we have\n",
    "$$ \n",
    "f_X(x) = \n",
    "\\begin{cases} \n",
    "    2x &  \\text{if $x \\in (0,1)$} \\\\\n",
    "    0 & \\text{if otherwise}\n",
    "\\end{cases}\n",
    "$$"
   ]
  },
  {
   "cell_type": "markdown",
   "metadata": {},
   "source": [
    "<h3> c. Derive the unconditional expectation of $X$.</h3>\n",
    "\n",
    "> The the unconditional expectation of $X$ can be computed as below:\n",
    "$$\n",
    "\\begin{aligned}\n",
    "E(X)\n",
    "    &= \\int^{\\infty}_{-\\infty} x \\cdot f_X(x) dx \\\\\n",
    "    &= \\int^{1}_{0} x \\cdot 2x dx \\\\\n",
    "    &= \\left[ \\frac{2x^3}{3} \\right]_0^1 \\\\\n",
    "    &= \\frac{2}{3}\n",
    "\\end{aligned}\n",
    "$$"
   ]
  },
  {
   "cell_type": "markdown",
   "metadata": {},
   "source": [
    "<h3> d. Derive the conditional probability density function of $Y$, conditional on $X$, $f_{Y|X}(y|x)$.</h3>\n",
    "\n",
    "> The the conditional probability density function can be computed as follows:\n",
    "$$\n",
    "\\begin{aligned}\n",
    "f_{Y|X}(y|x)\n",
    "    &= \\frac{f(x,y)}{f_X(x)} \\\\\n",
    "    &= \\frac{2}{2x} \\\\\n",
    "    &= \\frac{1}{x} \\\\\n",
    "\\end{aligned}\n",
    "$$"
   ]
  },
  {
   "cell_type": "markdown",
   "metadata": {},
   "source": [
    "<h3> e. Derive the conditional expectation of $Y$, conditional on $X$, $E(Y|X)$.</h3>\n",
    "\n",
    "> The conditional expectation can be computed as follows:\n",
    "$$\n",
    "\\begin{aligned}\n",
    "E_Y(Y|X) &= \\int_Y y \\cdot f_{Y|X}(y|x) dy \\\\\n",
    "&= \\int_0^x y \\cdot \\frac{1}{x} dy \\\\\n",
    "&= \\frac{1}{x} \\cdot \\int_0^x y dy \\\\\n",
    "&= \\frac{1}{x} \\cdot \\left[ \\frac{y^2}{2} \\right]^x_0 \\\\\n",
    "&= \\frac{1}{x} \\cdot \\frac{x^2}{2} \\\\\n",
    "&= \\frac{x}{2}\n",
    "\\end{aligned}\n",
    "$$"
   ]
  },
  {
   "cell_type": "markdown",
   "metadata": {},
   "source": [
    "<h3> f. Derive $E(XY)$.</h3>\n",
    "\n",
    "> The expectation can be computed as below:\n",
    "$$\n",
    "\\begin{aligned}\n",
    "E(XY) &= E_X[E_Y(XY|X)] \\\\\n",
    "&= E_X[X \\cdot E_Y(Y|X)] \\\\\n",
    "&= E_X[X \\cdot \\frac{X}{2}] \\\\\n",
    "&= E_X[\\frac{X^2}{2}] \\\\\n",
    "&= \\int_{0}^{1} \\frac{x^2}{2} \\cdot 2x dx \\\\\n",
    "&= \\left[ \\frac{x^4}{4} \\right]^1_0 \\\\\n",
    "&= \\frac{1}{4}\\\\\n",
    "\\end{aligned}\n",
    "$$"
   ]
  },
  {
   "cell_type": "markdown",
   "metadata": {},
   "source": [
    "<h3> g. Using the previous parts, derive $cov(X,Y)$</h3>\n",
    "\n",
    "> $$\n",
    "\\begin{aligned}\n",
    "cov(X,Y) &= E(XY) - E(X) E(Y) \\\\\n",
    "&= E(XY) - E(X) E_X[E_Y(Y|X)] \\\\\n",
    "&= E(XY) - E(X) \\cdot E_X[ \\frac{X}{2}] \\\\\n",
    "&= E(XY) - E(X) \\cdot \\int_0^1 \\frac{x}{2} \\cdot 2x dx \\\\\n",
    "&= E(XY) - E(X) \\cdot \\left[ \\frac{x^3}{3} \\right]_0^1 \\\\\n",
    "&= \\frac{1}{4} - \\frac{2}{3} \\cdot \\frac{1}{3} \\\\\n",
    "&= \\frac{1}{36}\n",
    "\\end{aligned}\n",
    "$$"
   ]
  },
  {
   "cell_type": "code",
   "execution_count": null,
   "metadata": {},
   "outputs": [],
   "source": []
  }
 ],
 "metadata": {
  "kernelspec": {
   "display_name": "R",
   "language": "R",
   "name": "ir"
  },
  "language_info": {
   "codemirror_mode": "r",
   "file_extension": ".r",
   "mimetype": "text/x-r-source",
   "name": "R",
   "pygments_lexer": "r",
   "version": "3.5.1"
  }
 },
 "nbformat": 4,
 "nbformat_minor": 2
}
