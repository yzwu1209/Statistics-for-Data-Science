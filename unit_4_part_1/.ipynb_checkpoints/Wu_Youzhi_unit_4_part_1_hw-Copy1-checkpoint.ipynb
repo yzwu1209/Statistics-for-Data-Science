{
 "cells": [
  {
   "cell_type": "markdown",
   "metadata": {},
   "source": [
    "<h1> Unit 3 Homework </h1>\n",
    "<h3> W203 Statistics for Data Science </h3>"
   ]
  },
  {
   "cell_type": "markdown",
   "metadata": {},
   "source": [
    "Student Name: Youzhi Wu\n",
    "\n",
    "Section Number: 05"
   ]
  },
  {
   "cell_type": "markdown",
   "metadata": {},
   "source": [
    "<h2> 1. Gas Station Analytics </h2>"
   ]
  },
  {
   "cell_type": "markdown",
   "metadata": {},
   "source": [
    "<h3> (a) What is the probability that the next customer will request regular gas and fill the tank? </h3>\n",
    "\n",
    "> Set Event X to be the event that the next customer will request regular gas and fill the tank\n",
    "$$\n",
    "\\begin{aligned}\n",
    "P(X) & = P(R \\cap F) \\\\\n",
    "& = P(F|R)P(R) \\\\\n",
    "& = 0.3 * 0.4 \\\\\n",
    "& = 0.12\n",
    "\\end{aligned}\n",
    "$$"
   ]
  },
  {
   "cell_type": "markdown",
   "metadata": {},
   "source": [
    "<h3> (b) What is the probability that the next customer will fill the tank? </h3>\n",
    "\n",
    "> Event F being the event that the next customer will fill the tank\n",
    "$$\n",
    "P(F) = P\\big[ (R \\cap F)\\cup(M \\cap F)\\cup(P \\cap F) \\big]\n",
    "$$\n",
    "Since Events $ R \\cap F, M \\cap F, and P \\cap F $ are exclusive, the above equation can be written as\n",
    "$$\n",
    "\\begin{aligned}\n",
    "P(F)&= P(R \\cap F) + P(M \\cap F) + P(P \\cap F) \\\\\n",
    "    &= P(F|R)P(R) + P(F|M)P(M) + P(F|P)P(P) \\\\\n",
    "    &= 0.3*0.4 + 0.6*0.35 + 0.5*0.25 \\\\\n",
    "    &= 0.455\n",
    "\\end{aligned}\n",
    "$$"
   ]
  },
  {
   "cell_type": "markdown",
   "metadata": {},
   "source": [
    "<h3> (c) Given that the next customer fills the tank, what is the conditional probability that they use regular gas? </h3> \n",
    "\n",
    "> $$\n",
    "\\begin{aligned}\n",
    "P(R|F) &= \\frac{P(R \\cap F)}{P(F)} \\\\\n",
    "       &= \\frac{0.12}{0.455} \\\\\n",
    "       &= 0.2637 \\\\\n",
    "\\end{aligned}\n",
    "$$       "
   ]
  },
  {
   "cell_type": "markdown",
   "metadata": {},
   "source": [
    "<h2> 2. The Toy Bin </h2>"
   ]
  },
  {
   "cell_type": "markdown",
   "metadata": {},
   "source": [
    "<h3> (a) Draw an area diagram to represent these events. </h3>"
   ]
  },
  {
   "cell_type": "markdown",
   "metadata": {},
   "source": [
    "<center><img src=\"2-a.jpg\"></center>"
   ]
  },
  {
   "cell_type": "markdown",
   "metadata": {},
   "source": [
    "<h3> (b) What is the probability of getting a red, waterproof, cool toy? </h3>\n",
    "\n",
    "> Set Event R as getting a red toy, Event W as getting a waterproof toy, Event C as getting a cool toy, and Event N as getting a neither red, waterproof, nor cool toy.\n",
    "\n",
    "$$\n",
    "\\begin{aligned}\n",
    "P(R \\cup W \\cup C) &= P(R) + P(W) + P(C) - P(R \\cap W) - P(R \\cap C) - P(W \\cap C) + P(R \\cap W \\cap C) \\\\\n",
    "&= 1 - P(N) \\\\\n",
    "\\end{aligned}\n",
    "$$\n"
   ]
  },
  {
   "cell_type": "markdown",
   "metadata": {},
   "source": [
    "> Therefore, \n",
    "$$\n",
    "\\begin{aligned}\n",
    "P(R \\cap W \\cap C) &= 1 - P(N) - [P(R) + P(W) + P(C) - P(R \\cap W) - P(R \\cap C) - P(W \\cap C)] \\\\\n",
    "&= 1 - 1/6 - [ 1/2 + 1/2 + 1/3 - 1/4 - 1/6 - 1/6] \\\\\n",
    "&= \\frac{1}{12} \\\\\n",
    "\\end{aligned}\n",
    "$$"
   ]
  },
  {
   "cell_type": "markdown",
   "metadata": {},
   "source": [
    "<h3> (c) You pull out a toy at random and you observe only the color, noting that it is red. Conditional on just this information, what is the probability that the toy is not cool? </h3>"
   ]
  },
  {
   "cell_type": "markdown",
   "metadata": {},
   "source": [
    "> $$\n",
    "\\begin{aligned}\n",
    "P(C'|R) &= \\frac{P(C' \\cap R)}{P(R)} \\\\\n",
    "&= \\frac{P(R) - P(C \\cap R)}{P(R)} \\\\\n",
    "&= \\frac{1/2 - 1/6}{1/2} \\\\\n",
    "&= \\frac{2}{3}\n",
    "\\end{aligned}\n",
    "$$"
   ]
  },
  {
   "cell_type": "markdown",
   "metadata": {},
   "source": [
    "<h3>(d) Given that a randomly selected toy is red or waterproof, what is the probability that it is cool? </h3>"
   ]
  },
  {
   "cell_type": "markdown",
   "metadata": {},
   "source": [
    "> $$\n",
    "\\begin{aligned}\n",
    "P(C|(R \\cup W)) &= \\frac{P(C \\cap (R \\cup W))}{P(R \\cup W)} \\\\\n",
    "&= \\frac{P(C \\cap R) + P(C \\cap W) - P(R \\cap W \\cap C)}{P(R) + P(W) - P(R \\cap W)} \\\\\n",
    "&= \\frac{1/6 + 1/6 - 1/12}{1/2 + 1/2 - 1/4} \\\\\n",
    "&= \\frac{1}{3}\n",
    "\\end{aligned}\n",
    "$$"
   ]
  },
  {
   "cell_type": "markdown",
   "metadata": {},
   "source": [
    "<h2> 3. On the Overlap of Two Events </h2>"
   ]
  },
  {
   "cell_type": "markdown",
   "metadata": {},
   "source": [
    "<h3> (a) What are the maximum and minimum possible values for P (A ∩ B)? </h3>"
   ]
  },
  {
   "cell_type": "markdown",
   "metadata": {},
   "source": [
    "> The maximum value is reached when A is located entirely within B in the area diagram. In this case, \n",
    "$$\n",
    "P(A \\cap B)_{max} = P(A) = \\frac{1}{2}\n",
    "$$\n",
    "> Because \n",
    "$$ \n",
    "P(A) + P(B) = 1/2 + 2/3 > 1\n",
    "$$\n",
    "It is not possible that A and B do not overlap with each other. Therefore, the minimum value is reached when A and B have the least amount of overlapped area, which means B' is located entirely within A. \n",
    "$$\n",
    "\\begin{aligned}\n",
    "P(A \\cap B)_{min} &= P(A) - P(B') \\\\\n",
    "&= 1/2 - (1-2/3) \\\\\n",
    "&= \\frac{1}{6}\n",
    "\\end{aligned}\n",
    "$$"
   ]
  },
  {
   "cell_type": "markdown",
   "metadata": {},
   "source": [
    "<h3> (b) What are the maximum and minimum possible values for P(A|B)? </h3>"
   ]
  },
  {
   "cell_type": "markdown",
   "metadata": {},
   "source": [
    "> Because $ P(A|B) = \\frac{P(A \\cap B)}{P(B)} $\n",
    "\n",
    "> Therefore,\n",
    "$$\n",
    "\\begin{aligned}\n",
    "P(A|B)_{max} &= \\frac{P(A \\cap B)_{max}}{P(B)} \\\\\n",
    "&= \\frac{1/2}{2/3} \\\\\n",
    "&= 0.75\n",
    "\\end{aligned}\n",
    "\\\\\n",
    "\\begin{aligned}\n",
    "P(A|B)_{min} &= \\frac{P(A \\cap B)_{min}}{P(B)} \\\\\n",
    "&= \\frac{1/6}{2/3} \\\\\n",
    "&= 0.25\n",
    "\\end{aligned}\n",
    "$$\n"
   ]
  },
  {
   "cell_type": "markdown",
   "metadata": {},
   "source": [
    "<h2> 4. Can’t Please Everyone! </h2>"
   ]
  },
  {
   "cell_type": "markdown",
   "metadata": {},
   "source": [
    "> Set Event L as an event that a Berkeley student likes statistics; Event W as an event that a Berkeley student completes w203. From the question we know that $ P(L|W) = \\frac{3}{4} $, $ P(L|W') = \\frac{1}{4} $, and $ P(W) = 0.01 $\n",
    "\n",
    "> $$\n",
    "\\begin{aligned}\n",
    "P(L) &= P(L|W)*P(W) + P(L|W')*P(W') \\\\\n",
    "&= P(W)*(3/4) + P(W')*(1/4) \\\\\n",
    "\\end{aligned}\n",
    "$$\n",
    "\n",
    "> $$\n",
    "\\begin{aligned}\n",
    "P(W|L) &= \\frac{P(W \\cap L)}{P(L)} \\\\\n",
    "&= \\frac{P(W)*(3/4)}{P(W)*(3/4) + P(W')*(1/4)} \\\\\n",
    "&= \\frac{0.01*(3/4)}{0.01*(3/4) + 0.99*(1/4)} \\\\\n",
    "&= 0.029\n",
    "\\end{aligned}\n",
    "$$\n"
   ]
  }
 ],
 "metadata": {
  "kernelspec": {
   "display_name": "R",
   "language": "R",
   "name": "ir"
  },
  "language_info": {
   "codemirror_mode": "r",
   "file_extension": ".r",
   "mimetype": "text/x-r-source",
   "name": "R",
   "pygments_lexer": "r",
   "version": "3.5.1"
  }
 },
 "nbformat": 4,
 "nbformat_minor": 2
}
