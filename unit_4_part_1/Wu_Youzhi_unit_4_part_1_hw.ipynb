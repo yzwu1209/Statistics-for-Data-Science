{
 "cells": [
  {
   "cell_type": "markdown",
   "metadata": {},
   "source": [
    "<h1> Unit 4 - Part 1 Homework </h1>\n",
    "<h3> W203 Statistics for Data Science </h3>"
   ]
  },
  {
   "cell_type": "markdown",
   "metadata": {},
   "source": [
    "Student Name: Youzhi Wu\n",
    "\n",
    "Section Number: 05"
   ]
  },
  {
   "cell_type": "markdown",
   "metadata": {},
   "source": [
    "<h2> 1. Best Game in the Casino </h2>"
   ]
  },
  {
   "cell_type": "markdown",
   "metadata": {},
   "source": [
    "<h3>(a) How much do you get paid if the coin comes up heads 3 times? </h3>\n",
    "\n",
    "> Set X as a discrete R.V. such that:\n",
    "$$ \n",
    "X = \n",
    "\\begin{cases} \n",
    "    0 &  \\text{if 0 head} \\\\\n",
    "    2 & \\text{if 1 head} \\\\\n",
    "    4 & \\text{if 2 heads} \\\\\n",
    "    y  & \\text{if 3 heads}\n",
    "\\end{cases}\n",
    "$$\n",
    "\n",
    "> Because we know that $E(X) = 6$, we have the following: \n",
    "$$\n",
    "\\begin{aligned}\n",
    "E(X) &= \\sum_{k \\in O} k \\cdot P(X=k) \\\\\n",
    "&= 0*0.5^3 + 2*0.5^3*P_{1,3} + 4*0.5^3*P_{1,3} + y*0.5^3 \\\\\n",
    "&= 6\n",
    "\\end{aligned}\n",
    "\\\\\n",
    "\\begin{aligned}\n",
    "y &= \\frac{6 - 0*0.5^3 - 2*0.5^3*P_{1,3} - 4*0.5^3*P_{1,3}}{0.5^3} \\\\\n",
    "&= 30\n",
    "\\end{aligned}\n",
    "$$\n",
    "\n",
    "> Therefore, we have that you will get paid $30 if the coin comes up heads 3 times. "
   ]
  },
  {
   "cell_type": "markdown",
   "metadata": {},
   "source": [
    "<h3>(b) Write down a complete expression for the cumulative probability function for your win- nings from the game. </h3>\n",
    "\n",
    "> The cumulative probability function F(x) can be written as follows: \n",
    "$$ \n",
    "F(x) = \n",
    "\\begin{cases} \n",
    "    \\frac{1}{8} &  \\text{if x = 0} \\\\\n",
    "    \\frac{1}{2} & \\text{if $x \\leq 1$} \\\\\n",
    "    \\frac{7}{8} & \\text{if $x \\leq 2$} \\\\\n",
    "    1 & \\text{if $x \\leq 3$}\n",
    "\\end{cases}\n",
    "$$"
   ]
  },
  {
   "cell_type": "markdown",
   "metadata": {},
   "source": [
    "<h2> 2. Reciprocal Dice </h2>"
   ]
  },
  {
   "cell_type": "markdown",
   "metadata": {},
   "source": [
    "> Assuming the 6-sided die is a fair die, which means that each side has a 1/6 possibility to get rolled. \n",
    "\n",
    "> Option (a): Get 1/E(X) in dollars right away\n",
    "$$\n",
    "\\begin{aligned}\n",
    "\\frac{1}{E(X)} &= \\frac{1}{1/6*1 + 1/6*2 + 1/6*3 + 1/6*4 + 1/6*5 +1/6*6} \\\\\n",
    "&= \\frac{2}{7} \\\\\n",
    "&= 0.286 \\\\\n",
    "\\end{aligned}\n",
    "$$\n",
    "\n",
    "> Option (b): Get 1/X in dollars\n",
    "$$\n",
    "\\begin{aligned}\n",
    "E(\\frac{1}{X}) &= 1/6*1 + (1/6)*(1/2) + (1/6)*(1/3) + (1/6)*(1/4) + (1/6)*(1/5) + (1/6)*(1/6) \\\\\n",
    "&= 0.408 \\\\\n",
    "\\end{aligned}\n",
    "$$\n",
    "\n",
    "> In terms of expectation, Option (b) has a greater expectation, and thus is better. "
   ]
  },
  {
   "cell_type": "markdown",
   "metadata": {},
   "source": [
    "<h2> 3. The Baseline for Measuring Deviations </h2>"
   ]
  },
  {
   "cell_type": "markdown",
   "metadata": {},
   "source": [
    "<h3> (a) Write down an expression for E(Y) and simplify it as much as you can </h3>"
   ]
  },
  {
   "cell_type": "markdown",
   "metadata": {},
   "source": [
    "> Because \n",
    "$$\n",
    "Y = (X − t)^2\n",
    "$$\n",
    "Therefore, we have \n",
    "$$\n",
    "\\begin{aligned}\n",
    "E(Y) &= E((X − t)^2) \\\\\n",
    "&= E(X^2 - 2tX + t^2) \\\\\n",
    "&= E(X^2) - E(2tX) + E(t^2) \\\\\n",
    "&= E(X^2) - 2tE(X) + t^2\n",
    "\\end{aligned}\n",
    "$$"
   ]
  },
  {
   "cell_type": "markdown",
   "metadata": {},
   "source": [
    "<h3> (b) Compute the value of t that minimizes E(Y) </h3>"
   ]
  },
  {
   "cell_type": "markdown",
   "metadata": {},
   "source": [
    "> $$\n",
    "\\frac{dE(Y)}{dt} = 2t - 2E(X) \n",
    "$$\n",
    "> The value of t that minimizes E(Y) can be written as follows: \n",
    "$$\n",
    "\\begin{aligned}\n",
    "2t - 2E(X) &= 0 \\\\\n",
    "t &= E(X) \n",
    "\\end{aligned}\n",
    "$$\n",
    "> Therefore, when t equals to the mean of X, it minimizes E(Y)."
   ]
  },
  {
   "cell_type": "markdown",
   "metadata": {},
   "source": [
    "<h3> (c) What is the value of E(Y ) for this choice of t? </h3>"
   ]
  },
  {
   "cell_type": "markdown",
   "metadata": {},
   "source": [
    ">$$\n",
    "\\begin{aligned}\n",
    "E(Y)_{min} &= E(X^2) - 2[E(X)]^2 + [E(X)]^2\\\\\n",
    "&= E(X^2) - [E(X)]^2\n",
    "\\end{aligned}\n",
    "$$\n",
    ">Therefore, E(Y) reaches minimum value when it equals to the variance of X. "
   ]
  },
  {
   "cell_type": "markdown",
   "metadata": {},
   "source": [
    "<h2> 4. Optional Advanced Exercise: Heavy Tails </h2>"
   ]
  },
  {
   "cell_type": "markdown",
   "metadata": {},
   "source": [
    "<h3> (a) Is E(M) finite? </h3>"
   ]
  },
  {
   "cell_type": "markdown",
   "metadata": {},
   "source": [
    "> $$\n",
    "\\begin{aligned}\n",
    "E(M) &= \\sum_{x \\in {1,2,3,...}}x\\frac{c}{x^3} + \\sum_{x \\notin {1,2,3,...}}x*0  \\\\\n",
    "&= \\sum_{x \\in {1,2,3,...}}\\frac{c}{x^2} \\\\\n",
    "\\end{aligned}\n",
    "$$\n",
    "The series $\\sum_{x \\in {1,2,3,...}}\\frac{1}{x^2}$ converges to $\\frac{\\pi^2}{6}$, therefore E(M) is finite. "
   ]
  },
  {
   "cell_type": "markdown",
   "metadata": {},
   "source": [
    "<h3> (b) Is var(M) finite? </h3>"
   ]
  },
  {
   "cell_type": "markdown",
   "metadata": {},
   "source": [
    "> $$\n",
    "\\begin{aligned}\n",
    "var(M) &= E(M^2) - [E(M)]^2 \\\\\n",
    "&= \\sum_ {x \\in {1,2,3,...}}x^2\\frac{c}{x^3} - [\\sum_{x \\in {1,2,3,...}}x\\frac{c}{x^3}]^2 \\\\\n",
    "&= \\sum_ {x \\in {1,2,3,...}}\\frac{c}{x} - [\\sum_{x \\in {1,2,3,...}}\\frac{c}{x^2}]^2 \\\\\n",
    "\\end{aligned}\n",
    "$$\n",
    "The series $\\sum_{x \\in {1,2,3,...}}\\frac{1}{x}$ does not converge, therefore var(M) is not finite."
   ]
  },
  {
   "cell_type": "code",
   "execution_count": null,
   "metadata": {},
   "outputs": [],
   "source": []
  }
 ],
 "metadata": {
  "kernelspec": {
   "display_name": "R",
   "language": "R",
   "name": "ir"
  },
  "language_info": {
   "codemirror_mode": "r",
   "file_extension": ".r",
   "mimetype": "text/x-r-source",
   "name": "R",
   "pygments_lexer": "r",
   "version": "3.5.1"
  }
 },
 "nbformat": 4,
 "nbformat_minor": 2
}
